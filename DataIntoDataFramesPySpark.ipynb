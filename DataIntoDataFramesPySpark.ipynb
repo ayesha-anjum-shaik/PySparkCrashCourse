{
  "nbformat": 4,
  "nbformat_minor": 0,
  "metadata": {
    "colab": {
      "provenance": [],
      "authorship_tag": "ABX9TyMz+4VKwB/2vj/E+JA73/JL",
      "include_colab_link": true
    },
    "kernelspec": {
      "name": "python3",
      "display_name": "Python 3"
    },
    "language_info": {
      "name": "python"
    }
  },
  "cells": [
    {
      "cell_type": "markdown",
      "metadata": {
        "id": "view-in-github",
        "colab_type": "text"
      },
      "source": [
        "<a href=\"https://colab.research.google.com/github/ayesha-anjum-shaik/PySparkCrashCourse/blob/main/DataIntoDataFramesPySpark.ipynb\" target=\"_parent\"><img src=\"https://colab.research.google.com/assets/colab-badge.svg\" alt=\"Open In Colab\"/></a>"
      ]
    },
    {
      "cell_type": "code",
      "execution_count": null,
      "metadata": {
        "id": "EF4y3gBLj_IW",
        "colab": {
          "base_uri": "https://localhost:8080/",
          "height": 310
        },
        "outputId": "160d8d03-e4b7-4ec3-f968-e12aea2db131"
      },
      "outputs": [
        {
          "output_type": "stream",
          "name": "stdout",
          "text": [
            "df_output.csv\t   spark-3.1.1-bin-hadoop3.2\n",
            "df_output.json\t   spark-3.1.1-bin-hadoop3.2.tgz\n",
            "df_output.parquet  spark-3.1.1-bin-hadoop3.2.tgz.1\n",
            "original.csv\t   spark-3.1.1-bin-hadoop3.2.tgz.2\n",
            "sample_data\t   spark-3.1.1-bin-hadoop3.2.tgz.3\n"
          ]
        },
        {
          "output_type": "execute_result",
          "data": {
            "text/plain": [
              "<pyspark.sql.session.SparkSession at 0x7f75a7083640>"
            ],
            "text/html": [
              "\n",
              "            <div>\n",
              "                <p><b>SparkSession - in-memory</b></p>\n",
              "                \n",
              "        <div>\n",
              "            <p><b>SparkContext</b></p>\n",
              "\n",
              "            <p><a href=\"http://c82152b511b2:4040\">Spark UI</a></p>\n",
              "\n",
              "            <dl>\n",
              "              <dt>Version</dt>\n",
              "                <dd><code>v3.1.1</code></dd>\n",
              "              <dt>Master</dt>\n",
              "                <dd><code>local[*]</code></dd>\n",
              "              <dt>AppName</dt>\n",
              "                <dd><code>pyspark-shell</code></dd>\n",
              "            </dl>\n",
              "        </div>\n",
              "        \n",
              "            </div>\n",
              "        "
            ]
          },
          "metadata": {},
          "execution_count": 64
        }
      ],
      "source": [
        "!apt-get install openjdk-8-jdk-headless -qq > /dev/null\n",
        "!wget -q http://archive.apache.org/dist/spark/spark-3.1.1/spark-3.1.1-bin-hadoop3.2.tgz\n",
        "!tar xf spark-3.1.1-bin-hadoop3.2.tgz\n",
        "!pip install -q findspark\n",
        "\n",
        "import os\n",
        "os.environ[\"JAVA_HOME\"] = \"/usr/lib/jvm/java-8-openjdk-amd64\"\n",
        "os.environ[\"SPARK_HOME\"] = \"/content/spark-3.1.1-bin-hadoop3.2\"\n",
        "!ls\n",
        "\n",
        "import findspark\n",
        "findspark.init()\n",
        "\n",
        "import pyspark\n",
        "from pyspark.sql import SparkSession\n",
        "spark = SparkSession.builder.master(\"local[*]\").getOrCreate()\n",
        "spark"
      ]
    },
    {
      "cell_type": "code",
      "source": [
        "# read the input csv file with header and store in data frame\n",
        "df = spark.read.format(\"csv\").option(\"header\",\"true\").load(\"original.csv\")\n",
        "df.show()"
      ],
      "metadata": {
        "colab": {
          "base_uri": "https://localhost:8080/"
        },
        "id": "d3RPrmkv9g6R",
        "outputId": "69969f47-96e9-4b70-91f8-5a807cea53e3"
      },
      "execution_count": null,
      "outputs": [
        {
          "output_type": "stream",
          "name": "stdout",
          "text": [
            "+---+----------+----------+------+---------------+--------------------+---------+----------+-----------+\n",
            "| id|first_name| last_name|gender|           City|            JobTitle|   Salary|  Latitude|  Longitude|\n",
            "+---+----------+----------+------+---------------+--------------------+---------+----------+-----------+\n",
            "|  1|   Melinde| Shilburne|Female|      Nowa Ruda| Assistant Professor|$57438.18|50.5774075| 16.4967184|\n",
            "|  2|  Kimberly|Von Welden|Female|         Bulgan|       Programmer II|$62846.60|48.8231572|103.5218199|\n",
            "|  3|    Alvera|  Di Boldi|Female|           null|                null|$57576.52|39.9947462|116.3397725|\n",
            "|  4|   Shannon| O'Griffin|  Male|  Divnomorskoye|Budget/Accounting...|$61489.23|44.5047212| 38.1300171|\n",
            "|  5|  Sherwood|   Macieja|  Male|      Mytishchi|            VP Sales|$63863.09|      null| 37.6489954|\n",
            "|  6|     Maris|      Folk|Female|Kinsealy-Drinan|      Civil Engineer|$30101.16|53.4266145| -6.1644997|\n",
            "|  7|     Masha|    Divers|Female|         Dachun|                null|$25090.87| 24.879416| 118.930111|\n",
            "|  8|   Goddart|     Flear|  Male|      Trélissac|Desktop Support T...|$46116.36|45.1905186|  0.7423124|\n",
            "|  9|      Roth|O'Cannavan|  Male|         Heitan|VP Product Manage...|$73697.10| 32.027934| 106.657113|\n",
            "| 10|      Bran|   Trahear|  Male|       Arbeláez|Mechanical System...|$68098.42|  4.272793| -74.416014|\n",
            "| 11|    Kylynn|   Lockart|Female|       El Cardo|Nuclear Power Eng...|$13604.63|     -5.85|-79.8833329|\n",
            "| 12|       Rey|    Meharg|Female|    Wangqingtuo|Systems Administr...|$73423.70| 39.172378| 116.931607|\n",
            "| 13|      Kerr|    Braden|  Male|      Sułkowice|Compensation Analyst|$33432.99|49.8151822| 19.3771749|\n",
            "| 14|    Mickie| Whanstall|  Male|    Springfield|Assistant Media P...|$50838.53|42.1014803|-72.5766759|\n",
            "| 15|    Kaspar|     Pally|  Male|         Chrást|  Analyst Programmer|$40163.03|49.7923299| 13.4915324|\n",
            "| 16|    Norbie|    Gwyllt|  Male|         Xijiao|              Editor|$32492.73|43.4945737|  5.8978018|\n",
            "| 17|    Claude|    Briant|Female|      Mieścisko|Research Assistan...|$51862.48|52.7441662| 17.3278637|\n",
            "| 18|     Thain|    Habbon|  Male| Foros do Trapo|     Design Engineer|$42135.67| 38.696249| -8.7098337|\n",
            "| 19|  Tiffanie|  Pattison|Female|    Jabungsisir|Senior Financial ...|$91925.08|-7.7232567|113.4686802|\n",
            "| 20|    Ettore|  Gerriets|  Male|          Pedra| Staff Accountant IV|$73921.33|40.7172049| -8.3625148|\n",
            "+---+----------+----------+------+---------------+--------------------+---------+----------+-----------+\n",
            "only showing top 20 rows\n",
            "\n"
          ]
        }
      ]
    },
    {
      "cell_type": "code",
      "source": [
        "# read the input files in other format, also use spark.read.text() for text file input\n",
        "df2 = spark.read.csv(\"original.csv\",header = True)\n",
        "df2.show()"
      ],
      "metadata": {
        "colab": {
          "base_uri": "https://localhost:8080/"
        },
        "id": "jHPcs55G_PET",
        "outputId": "5c2772be-02b8-4b65-af64-f8145a8ae172"
      },
      "execution_count": null,
      "outputs": [
        {
          "output_type": "stream",
          "name": "stdout",
          "text": [
            "+---+----------+----------+------+---------------+--------------------+---------+----------+-----------+\n",
            "| id|first_name| last_name|gender|           City|            JobTitle|   Salary|  Latitude|  Longitude|\n",
            "+---+----------+----------+------+---------------+--------------------+---------+----------+-----------+\n",
            "|  1|   Melinde| Shilburne|Female|      Nowa Ruda| Assistant Professor|$57438.18|50.5774075| 16.4967184|\n",
            "|  2|  Kimberly|Von Welden|Female|         Bulgan|       Programmer II|$62846.60|48.8231572|103.5218199|\n",
            "|  3|    Alvera|  Di Boldi|Female|           null|                null|$57576.52|39.9947462|116.3397725|\n",
            "|  4|   Shannon| O'Griffin|  Male|  Divnomorskoye|Budget/Accounting...|$61489.23|44.5047212| 38.1300171|\n",
            "|  5|  Sherwood|   Macieja|  Male|      Mytishchi|            VP Sales|$63863.09|      null| 37.6489954|\n",
            "|  6|     Maris|      Folk|Female|Kinsealy-Drinan|      Civil Engineer|$30101.16|53.4266145| -6.1644997|\n",
            "|  7|     Masha|    Divers|Female|         Dachun|                null|$25090.87| 24.879416| 118.930111|\n",
            "|  8|   Goddart|     Flear|  Male|      Trélissac|Desktop Support T...|$46116.36|45.1905186|  0.7423124|\n",
            "|  9|      Roth|O'Cannavan|  Male|         Heitan|VP Product Manage...|$73697.10| 32.027934| 106.657113|\n",
            "| 10|      Bran|   Trahear|  Male|       Arbeláez|Mechanical System...|$68098.42|  4.272793| -74.416014|\n",
            "| 11|    Kylynn|   Lockart|Female|       El Cardo|Nuclear Power Eng...|$13604.63|     -5.85|-79.8833329|\n",
            "| 12|       Rey|    Meharg|Female|    Wangqingtuo|Systems Administr...|$73423.70| 39.172378| 116.931607|\n",
            "| 13|      Kerr|    Braden|  Male|      Sułkowice|Compensation Analyst|$33432.99|49.8151822| 19.3771749|\n",
            "| 14|    Mickie| Whanstall|  Male|    Springfield|Assistant Media P...|$50838.53|42.1014803|-72.5766759|\n",
            "| 15|    Kaspar|     Pally|  Male|         Chrást|  Analyst Programmer|$40163.03|49.7923299| 13.4915324|\n",
            "| 16|    Norbie|    Gwyllt|  Male|         Xijiao|              Editor|$32492.73|43.4945737|  5.8978018|\n",
            "| 17|    Claude|    Briant|Female|      Mieścisko|Research Assistan...|$51862.48|52.7441662| 17.3278637|\n",
            "| 18|     Thain|    Habbon|  Male| Foros do Trapo|     Design Engineer|$42135.67| 38.696249| -8.7098337|\n",
            "| 19|  Tiffanie|  Pattison|Female|    Jabungsisir|Senior Financial ...|$91925.08|-7.7232567|113.4686802|\n",
            "| 20|    Ettore|  Gerriets|  Male|          Pedra| Staff Accountant IV|$73921.33|40.7172049| -8.3625148|\n",
            "+---+----------+----------+------+---------------+--------------------+---------+----------+-----------+\n",
            "only showing top 20 rows\n",
            "\n"
          ]
        }
      ]
    },
    {
      "cell_type": "code",
      "source": [
        "# display the data types of each column \n",
        "df.dtypes"
      ],
      "metadata": {
        "colab": {
          "base_uri": "https://localhost:8080/"
        },
        "id": "1MA-hNSj_lYj",
        "outputId": "d323104d-d96f-41b1-af0d-2b98b886c5bd"
      },
      "execution_count": null,
      "outputs": [
        {
          "output_type": "execute_result",
          "data": {
            "text/plain": [
              "[('id', 'string'),\n",
              " ('first_name', 'string'),\n",
              " ('last_name', 'string'),\n",
              " ('gender', 'string'),\n",
              " ('City', 'string'),\n",
              " ('JobTitle', 'string'),\n",
              " ('Salary', 'string'),\n",
              " ('Latitude', 'string'),\n",
              " ('Longitude', 'string')]"
            ]
          },
          "metadata": {},
          "execution_count": 67
        }
      ]
    },
    {
      "cell_type": "code",
      "source": [
        "# define a schema using structures and read the data into dataframe\n",
        "from pyspark.sql.types import *\n",
        "schema = StructType([\n",
        "    StructField('id',IntegerType()),\n",
        "    StructField('first_name',StringType()),\n",
        "    StructField('last_name',StringType()),\n",
        "    StructField('gender',StringType()),\n",
        "    StructField('City',StringType()),\n",
        "    StructField('JobTitle',StringType()),\n",
        "    StructField('Salary',StringType()),\n",
        "    StructField('Latitude',StringType()),\n",
        "    StructField('Longitude',FloatType())\n",
        "])\n",
        "df3 = spark.read.csv(\"original.csv\",header = True, schema = schema)\n",
        "df3.show()"
      ],
      "metadata": {
        "colab": {
          "base_uri": "https://localhost:8080/"
        },
        "id": "kFsUYfNa_FAF",
        "outputId": "791fc094-7135-40e8-8167-5aab7996f000"
      },
      "execution_count": null,
      "outputs": [
        {
          "output_type": "stream",
          "name": "stdout",
          "text": [
            "+---+----------+----------+------+---------------+--------------------+---------+----------+----------+\n",
            "| id|first_name| last_name|gender|           City|            JobTitle|   Salary|  Latitude| Longitude|\n",
            "+---+----------+----------+------+---------------+--------------------+---------+----------+----------+\n",
            "|  1|   Melinde| Shilburne|Female|      Nowa Ruda| Assistant Professor|$57438.18|50.5774075| 16.496717|\n",
            "|  2|  Kimberly|Von Welden|Female|         Bulgan|       Programmer II|$62846.60|48.8231572| 103.52182|\n",
            "|  3|    Alvera|  Di Boldi|Female|           null|                null|$57576.52|39.9947462|116.339775|\n",
            "|  4|   Shannon| O'Griffin|  Male|  Divnomorskoye|Budget/Accounting...|$61489.23|44.5047212| 38.130016|\n",
            "|  5|  Sherwood|   Macieja|  Male|      Mytishchi|            VP Sales|$63863.09|      null| 37.648994|\n",
            "|  6|     Maris|      Folk|Female|Kinsealy-Drinan|      Civil Engineer|$30101.16|53.4266145|-6.1644998|\n",
            "|  7|     Masha|    Divers|Female|         Dachun|                null|$25090.87| 24.879416|118.930115|\n",
            "|  8|   Goddart|     Flear|  Male|      Trélissac|Desktop Support T...|$46116.36|45.1905186| 0.7423124|\n",
            "|  9|      Roth|O'Cannavan|  Male|         Heitan|VP Product Manage...|$73697.10| 32.027934| 106.65711|\n",
            "| 10|      Bran|   Trahear|  Male|       Arbeláez|Mechanical System...|$68098.42|  4.272793|-74.416016|\n",
            "| 11|    Kylynn|   Lockart|Female|       El Cardo|Nuclear Power Eng...|$13604.63|     -5.85| -79.88333|\n",
            "| 12|       Rey|    Meharg|Female|    Wangqingtuo|Systems Administr...|$73423.70| 39.172378| 116.93161|\n",
            "| 13|      Kerr|    Braden|  Male|      Sułkowice|Compensation Analyst|$33432.99|49.8151822| 19.377174|\n",
            "| 14|    Mickie| Whanstall|  Male|    Springfield|Assistant Media P...|$50838.53|42.1014803|-72.576675|\n",
            "| 15|    Kaspar|     Pally|  Male|         Chrást|  Analyst Programmer|$40163.03|49.7923299| 13.491532|\n",
            "| 16|    Norbie|    Gwyllt|  Male|         Xijiao|              Editor|$32492.73|43.4945737|  5.897802|\n",
            "| 17|    Claude|    Briant|Female|      Mieścisko|Research Assistan...|$51862.48|52.7441662| 17.327864|\n",
            "| 18|     Thain|    Habbon|  Male| Foros do Trapo|     Design Engineer|$42135.67| 38.696249| -8.709834|\n",
            "| 19|  Tiffanie|  Pattison|Female|    Jabungsisir|Senior Financial ...|$91925.08|-7.7232567| 113.46868|\n",
            "| 20|    Ettore|  Gerriets|  Male|          Pedra| Staff Accountant IV|$73921.33|40.7172049|-8.3625145|\n",
            "+---+----------+----------+------+---------------+--------------------+---------+----------+----------+\n",
            "only showing top 20 rows\n",
            "\n"
          ]
        }
      ]
    },
    {
      "cell_type": "code",
      "source": [
        "# display the datatypes of the schema dataframe\n",
        "df3.dtypes"
      ],
      "metadata": {
        "colab": {
          "base_uri": "https://localhost:8080/"
        },
        "id": "dJ1Lhq32BTyW",
        "outputId": "9af58747-66e9-440f-c4d8-102a62b617c6"
      },
      "execution_count": null,
      "outputs": [
        {
          "output_type": "execute_result",
          "data": {
            "text/plain": [
              "[('id', 'int'),\n",
              " ('first_name', 'string'),\n",
              " ('last_name', 'string'),\n",
              " ('gender', 'string'),\n",
              " ('City', 'string'),\n",
              " ('JobTitle', 'string'),\n",
              " ('Salary', 'string'),\n",
              " ('Latitude', 'string'),\n",
              " ('Longitude', 'float')]"
            ]
          },
          "metadata": {},
          "execution_count": 69
        }
      ]
    },
    {
      "cell_type": "code",
      "source": [
        "# display the statistical details of the input data \n",
        "df.describe().show()"
      ],
      "metadata": {
        "colab": {
          "base_uri": "https://localhost:8080/"
        },
        "id": "Hvtrd4IsA-Gh",
        "outputId": "e355ab26-85c5-406b-ea23-1fd662343bb7"
      },
      "execution_count": null,
      "outputs": [
        {
          "output_type": "stream",
          "name": "stdout",
          "text": [
            "+-------+-----------------+----------+---------+------+-------------------+-------------------+---------+-----------------+------------------+\n",
            "|summary|               id|first_name|last_name|gender|               City|           JobTitle|   Salary|         Latitude|         Longitude|\n",
            "+-------+-----------------+----------+---------+------+-------------------+-------------------+---------+-----------------+------------------+\n",
            "|  count|             1000|      1000|     1000|  1000|                999|                998|     1000|              999|              1000|\n",
            "|   mean|            500.5|      null|     null|  null|               null|               null|     null|25.43151724234234|43.337564614499996|\n",
            "| stddev|288.8194360957494|      null|     null|  null|               null|               null|     null| 24.5790825486909| 69.42064539970089|\n",
            "|    min|                1|   Abagail|    Abbay|Female|             Abéché|Account Coordinator|$10101.92|       -0.6256517|        -0.4889547|\n",
            "|    max|              999|    Zulema| de Marco|  Male|‘Aşīrah al Qiblīyah|   Web Developer IV|$99948.28|        9.9533828|        99.9590822|\n",
            "+-------+-----------------+----------+---------+------+-------------------+-------------------+---------+-----------------+------------------+\n",
            "\n"
          ]
        }
      ]
    },
    {
      "cell_type": "code",
      "source": [
        "# display the column names of the dataframe\n",
        "df.columns"
      ],
      "metadata": {
        "colab": {
          "base_uri": "https://localhost:8080/"
        },
        "id": "aSzlPHVIBrKO",
        "outputId": "b192af85-4259-4f52-cbd9-12286b122404"
      },
      "execution_count": null,
      "outputs": [
        {
          "output_type": "execute_result",
          "data": {
            "text/plain": [
              "['id',\n",
              " 'first_name',\n",
              " 'last_name',\n",
              " 'gender',\n",
              " 'City',\n",
              " 'JobTitle',\n",
              " 'Salary',\n",
              " 'Latitude',\n",
              " 'Longitude']"
            ]
          },
          "metadata": {},
          "execution_count": 71
        }
      ]
    },
    {
      "cell_type": "code",
      "source": [
        "# display the count of all columns in the dataframe\n",
        "df.count()"
      ],
      "metadata": {
        "colab": {
          "base_uri": "https://localhost:8080/"
        },
        "id": "_kywSkrHBzSA",
        "outputId": "d5b887d7-79e3-423c-b0da-497137ee4754"
      },
      "execution_count": null,
      "outputs": [
        {
          "output_type": "execute_result",
          "data": {
            "text/plain": [
              "1000"
            ]
          },
          "metadata": {},
          "execution_count": 72
        }
      ]
    },
    {
      "cell_type": "code",
      "source": [
        "# display the count of all distinct columns in dataframe\n",
        "df.distinct().count()"
      ],
      "metadata": {
        "colab": {
          "base_uri": "https://localhost:8080/"
        },
        "id": "l-LXGR3UB7PK",
        "outputId": "d90cd461-8c34-4672-aef4-af004b5ab55e"
      },
      "execution_count": null,
      "outputs": [
        {
          "output_type": "execute_result",
          "data": {
            "text/plain": [
              "1000"
            ]
          },
          "metadata": {},
          "execution_count": 73
        }
      ]
    },
    {
      "cell_type": "code",
      "source": [
        "# drop the rows with null values\n",
        "df_dropped = df.na.drop()\n",
        "df_dropped.show()"
      ],
      "metadata": {
        "colab": {
          "base_uri": "https://localhost:8080/"
        },
        "id": "R5gpSW8oClNA",
        "outputId": "2cf65d19-6abb-4ab2-a7be-cc3f70f4301c"
      },
      "execution_count": null,
      "outputs": [
        {
          "output_type": "stream",
          "name": "stdout",
          "text": [
            "+---+----------+----------+------+---------------+--------------------+---------+----------+-----------+\n",
            "| id|first_name| last_name|gender|           City|            JobTitle|   Salary|  Latitude|  Longitude|\n",
            "+---+----------+----------+------+---------------+--------------------+---------+----------+-----------+\n",
            "|  1|   Melinde| Shilburne|Female|      Nowa Ruda| Assistant Professor|$57438.18|50.5774075| 16.4967184|\n",
            "|  2|  Kimberly|Von Welden|Female|         Bulgan|       Programmer II|$62846.60|48.8231572|103.5218199|\n",
            "|  4|   Shannon| O'Griffin|  Male|  Divnomorskoye|Budget/Accounting...|$61489.23|44.5047212| 38.1300171|\n",
            "|  6|     Maris|      Folk|Female|Kinsealy-Drinan|      Civil Engineer|$30101.16|53.4266145| -6.1644997|\n",
            "|  8|   Goddart|     Flear|  Male|      Trélissac|Desktop Support T...|$46116.36|45.1905186|  0.7423124|\n",
            "|  9|      Roth|O'Cannavan|  Male|         Heitan|VP Product Manage...|$73697.10| 32.027934| 106.657113|\n",
            "| 10|      Bran|   Trahear|  Male|       Arbeláez|Mechanical System...|$68098.42|  4.272793| -74.416014|\n",
            "| 11|    Kylynn|   Lockart|Female|       El Cardo|Nuclear Power Eng...|$13604.63|     -5.85|-79.8833329|\n",
            "| 12|       Rey|    Meharg|Female|    Wangqingtuo|Systems Administr...|$73423.70| 39.172378| 116.931607|\n",
            "| 13|      Kerr|    Braden|  Male|      Sułkowice|Compensation Analyst|$33432.99|49.8151822| 19.3771749|\n",
            "| 14|    Mickie| Whanstall|  Male|    Springfield|Assistant Media P...|$50838.53|42.1014803|-72.5766759|\n",
            "| 15|    Kaspar|     Pally|  Male|         Chrást|  Analyst Programmer|$40163.03|49.7923299| 13.4915324|\n",
            "| 16|    Norbie|    Gwyllt|  Male|         Xijiao|              Editor|$32492.73|43.4945737|  5.8978018|\n",
            "| 17|    Claude|    Briant|Female|      Mieścisko|Research Assistan...|$51862.48|52.7441662| 17.3278637|\n",
            "| 18|     Thain|    Habbon|  Male| Foros do Trapo|     Design Engineer|$42135.67| 38.696249| -8.7098337|\n",
            "| 19|  Tiffanie|  Pattison|Female|    Jabungsisir|Senior Financial ...|$91925.08|-7.7232567|113.4686802|\n",
            "| 20|    Ettore|  Gerriets|  Male|          Pedra| Staff Accountant IV|$73921.33|40.7172049| -8.3625148|\n",
            "| 21|      Alon|  Chasteau|  Male|          Xin’e|     Web Developer I|$62755.85|  49.16291|  127.98658|\n",
            "| 22|   Guthrey|    Johnke|  Male|         Xijiao|         Developer I|$13708.03|40.7576842| 23.1342184|\n",
            "| 23|   Lurleen|   Janczak|Female|      Rozkishne|    Web Developer IV|$29384.72|48.4902808| 39.2712224|\n",
            "+---+----------+----------+------+---------------+--------------------+---------+----------+-----------+\n",
            "only showing top 20 rows\n",
            "\n"
          ]
        }
      ]
    },
    {
      "cell_type": "code",
      "source": [
        "# filter and drop the null values rows in job title column \n",
        "df_notnull_jobs = df.filter(df.JobTitle.isNotNull())\n",
        "df_notnull_jobs.show()"
      ],
      "metadata": {
        "colab": {
          "base_uri": "https://localhost:8080/"
        },
        "id": "70VvfHOvDRo4",
        "outputId": "fe0fe9ff-7977-4505-8476-e45fbf097a7e"
      },
      "execution_count": null,
      "outputs": [
        {
          "output_type": "stream",
          "name": "stdout",
          "text": [
            "+---+----------+----------+------+---------------+--------------------+---------+----------+-----------+\n",
            "| id|first_name| last_name|gender|           City|            JobTitle|   Salary|  Latitude|  Longitude|\n",
            "+---+----------+----------+------+---------------+--------------------+---------+----------+-----------+\n",
            "|  1|   Melinde| Shilburne|Female|      Nowa Ruda| Assistant Professor|$57438.18|50.5774075| 16.4967184|\n",
            "|  2|  Kimberly|Von Welden|Female|         Bulgan|       Programmer II|$62846.60|48.8231572|103.5218199|\n",
            "|  4|   Shannon| O'Griffin|  Male|  Divnomorskoye|Budget/Accounting...|$61489.23|44.5047212| 38.1300171|\n",
            "|  5|  Sherwood|   Macieja|  Male|      Mytishchi|            VP Sales|$63863.09|      null| 37.6489954|\n",
            "|  6|     Maris|      Folk|Female|Kinsealy-Drinan|      Civil Engineer|$30101.16|53.4266145| -6.1644997|\n",
            "|  8|   Goddart|     Flear|  Male|      Trélissac|Desktop Support T...|$46116.36|45.1905186|  0.7423124|\n",
            "|  9|      Roth|O'Cannavan|  Male|         Heitan|VP Product Manage...|$73697.10| 32.027934| 106.657113|\n",
            "| 10|      Bran|   Trahear|  Male|       Arbeláez|Mechanical System...|$68098.42|  4.272793| -74.416014|\n",
            "| 11|    Kylynn|   Lockart|Female|       El Cardo|Nuclear Power Eng...|$13604.63|     -5.85|-79.8833329|\n",
            "| 12|       Rey|    Meharg|Female|    Wangqingtuo|Systems Administr...|$73423.70| 39.172378| 116.931607|\n",
            "| 13|      Kerr|    Braden|  Male|      Sułkowice|Compensation Analyst|$33432.99|49.8151822| 19.3771749|\n",
            "| 14|    Mickie| Whanstall|  Male|    Springfield|Assistant Media P...|$50838.53|42.1014803|-72.5766759|\n",
            "| 15|    Kaspar|     Pally|  Male|         Chrást|  Analyst Programmer|$40163.03|49.7923299| 13.4915324|\n",
            "| 16|    Norbie|    Gwyllt|  Male|         Xijiao|              Editor|$32492.73|43.4945737|  5.8978018|\n",
            "| 17|    Claude|    Briant|Female|      Mieścisko|Research Assistan...|$51862.48|52.7441662| 17.3278637|\n",
            "| 18|     Thain|    Habbon|  Male| Foros do Trapo|     Design Engineer|$42135.67| 38.696249| -8.7098337|\n",
            "| 19|  Tiffanie|  Pattison|Female|    Jabungsisir|Senior Financial ...|$91925.08|-7.7232567|113.4686802|\n",
            "| 20|    Ettore|  Gerriets|  Male|          Pedra| Staff Accountant IV|$73921.33|40.7172049| -8.3625148|\n",
            "| 21|      Alon|  Chasteau|  Male|          Xin’e|     Web Developer I|$62755.85|  49.16291|  127.98658|\n",
            "| 22|   Guthrey|    Johnke|  Male|         Xijiao|         Developer I|$13708.03|40.7576842| 23.1342184|\n",
            "+---+----------+----------+------+---------------+--------------------+---------+----------+-----------+\n",
            "only showing top 20 rows\n",
            "\n"
          ]
        }
      ]
    },
    {
      "cell_type": "code",
      "source": [
        "# create a column with replacing null with Unknown in the city values\n",
        "from pyspark.sql.functions import *\n",
        "df_handled = df.withColumn(\"Clean City\",when(df.City.isNull(),'Unknown').otherwise(df.City))\n",
        "df_handled.show()"
      ],
      "metadata": {
        "colab": {
          "base_uri": "https://localhost:8080/"
        },
        "id": "iN32tqKOD0NS",
        "outputId": "97bfc4af-7b8d-4f62-e654-3b676078025b"
      },
      "execution_count": null,
      "outputs": [
        {
          "output_type": "stream",
          "name": "stdout",
          "text": [
            "+---+----------+----------+------+---------------+--------------------+---------+----------+-----------+---------------+\n",
            "| id|first_name| last_name|gender|           City|            JobTitle|   Salary|  Latitude|  Longitude|     Clean City|\n",
            "+---+----------+----------+------+---------------+--------------------+---------+----------+-----------+---------------+\n",
            "|  1|   Melinde| Shilburne|Female|      Nowa Ruda| Assistant Professor|$57438.18|50.5774075| 16.4967184|      Nowa Ruda|\n",
            "|  2|  Kimberly|Von Welden|Female|         Bulgan|       Programmer II|$62846.60|48.8231572|103.5218199|         Bulgan|\n",
            "|  3|    Alvera|  Di Boldi|Female|           null|                null|$57576.52|39.9947462|116.3397725|        Unknown|\n",
            "|  4|   Shannon| O'Griffin|  Male|  Divnomorskoye|Budget/Accounting...|$61489.23|44.5047212| 38.1300171|  Divnomorskoye|\n",
            "|  5|  Sherwood|   Macieja|  Male|      Mytishchi|            VP Sales|$63863.09|      null| 37.6489954|      Mytishchi|\n",
            "|  6|     Maris|      Folk|Female|Kinsealy-Drinan|      Civil Engineer|$30101.16|53.4266145| -6.1644997|Kinsealy-Drinan|\n",
            "|  7|     Masha|    Divers|Female|         Dachun|                null|$25090.87| 24.879416| 118.930111|         Dachun|\n",
            "|  8|   Goddart|     Flear|  Male|      Trélissac|Desktop Support T...|$46116.36|45.1905186|  0.7423124|      Trélissac|\n",
            "|  9|      Roth|O'Cannavan|  Male|         Heitan|VP Product Manage...|$73697.10| 32.027934| 106.657113|         Heitan|\n",
            "| 10|      Bran|   Trahear|  Male|       Arbeláez|Mechanical System...|$68098.42|  4.272793| -74.416014|       Arbeláez|\n",
            "| 11|    Kylynn|   Lockart|Female|       El Cardo|Nuclear Power Eng...|$13604.63|     -5.85|-79.8833329|       El Cardo|\n",
            "| 12|       Rey|    Meharg|Female|    Wangqingtuo|Systems Administr...|$73423.70| 39.172378| 116.931607|    Wangqingtuo|\n",
            "| 13|      Kerr|    Braden|  Male|      Sułkowice|Compensation Analyst|$33432.99|49.8151822| 19.3771749|      Sułkowice|\n",
            "| 14|    Mickie| Whanstall|  Male|    Springfield|Assistant Media P...|$50838.53|42.1014803|-72.5766759|    Springfield|\n",
            "| 15|    Kaspar|     Pally|  Male|         Chrást|  Analyst Programmer|$40163.03|49.7923299| 13.4915324|         Chrást|\n",
            "| 16|    Norbie|    Gwyllt|  Male|         Xijiao|              Editor|$32492.73|43.4945737|  5.8978018|         Xijiao|\n",
            "| 17|    Claude|    Briant|Female|      Mieścisko|Research Assistan...|$51862.48|52.7441662| 17.3278637|      Mieścisko|\n",
            "| 18|     Thain|    Habbon|  Male| Foros do Trapo|     Design Engineer|$42135.67| 38.696249| -8.7098337| Foros do Trapo|\n",
            "| 19|  Tiffanie|  Pattison|Female|    Jabungsisir|Senior Financial ...|$91925.08|-7.7232567|113.4686802|    Jabungsisir|\n",
            "| 20|    Ettore|  Gerriets|  Male|          Pedra| Staff Accountant IV|$73921.33|40.7172049| -8.3625148|          Pedra|\n",
            "+---+----------+----------+------+---------------+--------------------+---------+----------+-----------+---------------+\n",
            "only showing top 20 rows\n",
            "\n"
          ]
        }
      ]
    },
    {
      "cell_type": "code",
      "source": [
        "# drop duplicates\n",
        "df_noduplicates = df.dropDuplicates()\n",
        "df_noduplicates.show()"
      ],
      "metadata": {
        "colab": {
          "base_uri": "https://localhost:8080/"
        },
        "id": "6M7ONPx0ExU_",
        "outputId": "99943c97-0e8e-43e1-c02e-f7b85c97b4f8"
      },
      "execution_count": null,
      "outputs": [
        {
          "output_type": "stream",
          "name": "stdout",
          "text": [
            "+---+----------+----------+------+----------------+--------------------+---------+----------+------------+\n",
            "| id|first_name| last_name|gender|            City|            JobTitle|   Salary|  Latitude|   Longitude|\n",
            "+---+----------+----------+------+----------------+--------------------+---------+----------+------------+\n",
            "|167|    Buiron| Franzotto|  Male|         Prusice|    Health Coach III|$55731.78|51.3704296|  16.9606267|\n",
            "|610|    Waylen| O' Clovan|  Male|           Khyzy|   Marketing Manager|$73169.48|40.9109489|  49.0729264|\n",
            "|239|  Vivyanne|  Astridge|Female|         Baoshui|        Food Chemist|$11084.34| 30.513598|  110.361715|\n",
            "|256|    Stearn|    Niesel|  Male|         Lungmar| Software Consultant|$31406.56|  28.85816|    89.94036|\n",
            "|575|    Richie|  Hellicar|  Male|         Xichuan|        Developer IV|$40279.59|  33.13782|  111.490964|\n",
            "|578|    Mignon|    Debnam|Female|   Guajará Mirim|       Social Worker|$81607.74|-10.789321| -65.3301049|\n",
            "|784|  Marjorie|  Dekeyser|Female|        San Juan|Desktop Support T...|$12584.83| 14.565668| 121.0317737|\n",
            "|838|       Amy|   Walkley|Female|         Burnaby|Assistant Media P...|$27762.05|49.2574664|-123.0419607|\n",
            "|847| Meredithe|   Panting|Female|         Atlanta|           Librarian|$41745.23|33.9253024| -84.3857442|\n",
            "|892|  Adrianne| Penburton|Female|         Chuanbu|    Technical Writer|$29159.60| 33.011529|  114.022298|\n",
            "|344|    Janith|  Arnaudon|Female|          Webuye|    Technical Writer|$99368.55| 0.5992059|   34.779603|\n",
            "|351|    Sascha|    Matson|  Male|          Mehona|      Tax Accountant|$92313.86|-10.592804| 121.8292161|\n",
            "|362|    Lianne|  Sommerly|Female|         Tabālah|Software Test Eng...|$60641.75|19.9969372|  42.2263783|\n",
            "|595|    Holden|   Largent|  Male|         Wangshi|Payment Adjustmen...|$17529.32|39.9810986| 116.4217216|\n",
            "|627| Cherianne|     Zoppo|Female|Vaudreuil-Dorion|Nuclear Power Eng...|$73521.65|45.3665513| -73.9713406|\n",
            "|952|    Rustin|Wozencraft|  Male|     Santo Tomas|Human Resources A...|$88195.81| 7.5273576| 125.6239227|\n",
            "|474|  Tiffanie|      Fydo|Female|         Freiria|Nuclear Power Eng...|$57323.43|39.3442902|  -8.9534587|\n",
            "|526|  Garfield| Benadette|  Male|          Shiren|   Marketing Manager|$56867.78|28.6517036| 117.9041296|\n",
            "|540|    Eugene|     Cayle|  Male|         Kamālia|Budget/Accounting...|$46879.33|30.7361622|  72.6661867|\n",
            "|561|   Eveleen|  Johansen|Female|         Xinzhou|            Operator|$81861.88| 38.416663|  112.734174|\n",
            "+---+----------+----------+------+----------------+--------------------+---------+----------+------------+\n",
            "only showing top 20 rows\n",
            "\n"
          ]
        }
      ]
    },
    {
      "cell_type": "code",
      "source": [
        "# select only two columns and display those two columns\n",
        "df_select = df.select(\"first_name\",\"last_name\")\n",
        "df_select.show()"
      ],
      "metadata": {
        "colab": {
          "base_uri": "https://localhost:8080/"
        },
        "id": "YsJRp_owFdDU",
        "outputId": "4cf23dfb-1ffb-4c67-fbb6-58535e5ea624"
      },
      "execution_count": null,
      "outputs": [
        {
          "output_type": "stream",
          "name": "stdout",
          "text": [
            "+----------+----------+\n",
            "|first_name| last_name|\n",
            "+----------+----------+\n",
            "|   Melinde| Shilburne|\n",
            "|  Kimberly|Von Welden|\n",
            "|    Alvera|  Di Boldi|\n",
            "|   Shannon| O'Griffin|\n",
            "|  Sherwood|   Macieja|\n",
            "|     Maris|      Folk|\n",
            "|     Masha|    Divers|\n",
            "|   Goddart|     Flear|\n",
            "|      Roth|O'Cannavan|\n",
            "|      Bran|   Trahear|\n",
            "|    Kylynn|   Lockart|\n",
            "|       Rey|    Meharg|\n",
            "|      Kerr|    Braden|\n",
            "|    Mickie| Whanstall|\n",
            "|    Kaspar|     Pally|\n",
            "|    Norbie|    Gwyllt|\n",
            "|    Claude|    Briant|\n",
            "|     Thain|    Habbon|\n",
            "|  Tiffanie|  Pattison|\n",
            "|    Ettore|  Gerriets|\n",
            "+----------+----------+\n",
            "only showing top 20 rows\n",
            "\n"
          ]
        }
      ]
    },
    {
      "cell_type": "code",
      "source": [
        "# rename column name in a dataframe\n",
        "df_renamed = df.withColumnRenamed('first_name','fn')\n",
        "df_renamed.show()"
      ],
      "metadata": {
        "colab": {
          "base_uri": "https://localhost:8080/"
        },
        "id": "ZvmZABffGFCd",
        "outputId": "b6820690-4bb6-4a1b-a143-37d4e3df86b5"
      },
      "execution_count": null,
      "outputs": [
        {
          "output_type": "stream",
          "name": "stdout",
          "text": [
            "+---+--------+----------+------+---------------+--------------------+---------+----------+-----------+\n",
            "| id|      fn| last_name|gender|           City|            JobTitle|   Salary|  Latitude|  Longitude|\n",
            "+---+--------+----------+------+---------------+--------------------+---------+----------+-----------+\n",
            "|  1| Melinde| Shilburne|Female|      Nowa Ruda| Assistant Professor|$57438.18|50.5774075| 16.4967184|\n",
            "|  2|Kimberly|Von Welden|Female|         Bulgan|       Programmer II|$62846.60|48.8231572|103.5218199|\n",
            "|  3|  Alvera|  Di Boldi|Female|           null|                null|$57576.52|39.9947462|116.3397725|\n",
            "|  4| Shannon| O'Griffin|  Male|  Divnomorskoye|Budget/Accounting...|$61489.23|44.5047212| 38.1300171|\n",
            "|  5|Sherwood|   Macieja|  Male|      Mytishchi|            VP Sales|$63863.09|      null| 37.6489954|\n",
            "|  6|   Maris|      Folk|Female|Kinsealy-Drinan|      Civil Engineer|$30101.16|53.4266145| -6.1644997|\n",
            "|  7|   Masha|    Divers|Female|         Dachun|                null|$25090.87| 24.879416| 118.930111|\n",
            "|  8| Goddart|     Flear|  Male|      Trélissac|Desktop Support T...|$46116.36|45.1905186|  0.7423124|\n",
            "|  9|    Roth|O'Cannavan|  Male|         Heitan|VP Product Manage...|$73697.10| 32.027934| 106.657113|\n",
            "| 10|    Bran|   Trahear|  Male|       Arbeláez|Mechanical System...|$68098.42|  4.272793| -74.416014|\n",
            "| 11|  Kylynn|   Lockart|Female|       El Cardo|Nuclear Power Eng...|$13604.63|     -5.85|-79.8833329|\n",
            "| 12|     Rey|    Meharg|Female|    Wangqingtuo|Systems Administr...|$73423.70| 39.172378| 116.931607|\n",
            "| 13|    Kerr|    Braden|  Male|      Sułkowice|Compensation Analyst|$33432.99|49.8151822| 19.3771749|\n",
            "| 14|  Mickie| Whanstall|  Male|    Springfield|Assistant Media P...|$50838.53|42.1014803|-72.5766759|\n",
            "| 15|  Kaspar|     Pally|  Male|         Chrást|  Analyst Programmer|$40163.03|49.7923299| 13.4915324|\n",
            "| 16|  Norbie|    Gwyllt|  Male|         Xijiao|              Editor|$32492.73|43.4945737|  5.8978018|\n",
            "| 17|  Claude|    Briant|Female|      Mieścisko|Research Assistan...|$51862.48|52.7441662| 17.3278637|\n",
            "| 18|   Thain|    Habbon|  Male| Foros do Trapo|     Design Engineer|$42135.67| 38.696249| -8.7098337|\n",
            "| 19|Tiffanie|  Pattison|Female|    Jabungsisir|Senior Financial ...|$91925.08|-7.7232567|113.4686802|\n",
            "| 20|  Ettore|  Gerriets|  Male|          Pedra| Staff Accountant IV|$73921.33|40.7172049| -8.3625148|\n",
            "+---+--------+----------+------+---------------+--------------------+---------+----------+-----------+\n",
            "only showing top 20 rows\n",
            "\n"
          ]
        }
      ]
    },
    {
      "cell_type": "code",
      "source": [
        "# filter the firstname based on first name\n",
        "df_filter = df.filter(df.first_name=='Masha')\n",
        "df_filter.show()"
      ],
      "metadata": {
        "colab": {
          "base_uri": "https://localhost:8080/"
        },
        "id": "SZ6n5IyMGgAy",
        "outputId": "0a08e7ff-cc94-4b8e-9365-59445bb4a8c2"
      },
      "execution_count": null,
      "outputs": [
        {
          "output_type": "stream",
          "name": "stdout",
          "text": [
            "+---+----------+---------+------+------+--------+---------+---------+----------+\n",
            "| id|first_name|last_name|gender|  City|JobTitle|   Salary| Latitude| Longitude|\n",
            "+---+----------+---------+------+------+--------+---------+---------+----------+\n",
            "|  7|     Masha|   Divers|Female|Dachun|    null|$25090.87|24.879416|118.930111|\n",
            "+---+----------+---------+------+------+--------+---------+---------+----------+\n",
            "\n"
          ]
        }
      ]
    },
    {
      "cell_type": "code",
      "source": [
        "# filter the firstname based on first name using like operator\n",
        "df_filter = df.filter(df.first_name.like('%sha'))\n",
        "df_filter.show()"
      ],
      "metadata": {
        "colab": {
          "base_uri": "https://localhost:8080/"
        },
        "id": "9DwYWrqJGVfp",
        "outputId": "f7481917-c2ca-44a3-fe47-377ea84648bf"
      },
      "execution_count": null,
      "outputs": [
        {
          "output_type": "stream",
          "name": "stdout",
          "text": [
            "+---+----------+---------+------+------+--------+---------+----------+----------+\n",
            "| id|first_name|last_name|gender|  City|JobTitle|   Salary|  Latitude| Longitude|\n",
            "+---+----------+---------+------+------+--------+---------+----------+----------+\n",
            "|  7|     Masha|   Divers|Female|Dachun|    null|$25090.87| 24.879416|118.930111|\n",
            "|276|   Alyosha|Guerreiro|  Male|  Bile|   Nurse|$97909.88|48.5004939|39.0489509|\n",
            "+---+----------+---------+------+------+--------+---------+----------+----------+\n",
            "\n"
          ]
        }
      ]
    },
    {
      "cell_type": "code",
      "source": [
        "# filter the firstname based on first name using endswith operator\n",
        "df_filter = df.filter(df.first_name.endswith('sha'))\n",
        "df_filter.show()"
      ],
      "metadata": {
        "colab": {
          "base_uri": "https://localhost:8080/"
        },
        "id": "abpkqlQrHhK_",
        "outputId": "5b732b32-a395-4a08-e749-3cc7992c51ce"
      },
      "execution_count": null,
      "outputs": [
        {
          "output_type": "stream",
          "name": "stdout",
          "text": [
            "+---+----------+---------+------+------+--------+---------+----------+----------+\n",
            "| id|first_name|last_name|gender|  City|JobTitle|   Salary|  Latitude| Longitude|\n",
            "+---+----------+---------+------+------+--------+---------+----------+----------+\n",
            "|  7|     Masha|   Divers|Female|Dachun|    null|$25090.87| 24.879416|118.930111|\n",
            "|276|   Alyosha|Guerreiro|  Male|  Bile|   Nurse|$97909.88|48.5004939|39.0489509|\n",
            "+---+----------+---------+------+------+--------+---------+----------+----------+\n",
            "\n"
          ]
        }
      ]
    },
    {
      "cell_type": "code",
      "source": [
        "# filter the firstname based on first name using startswith operator\n",
        "df_filter = df.filter(df.first_name.startswith('Al'))\n",
        "df_filter.show()"
      ],
      "metadata": {
        "colab": {
          "base_uri": "https://localhost:8080/"
        },
        "id": "hdAeLa7fKHNj",
        "outputId": "425715a8-d93f-4ac1-e85c-3b1e5a0e94a1"
      },
      "execution_count": null,
      "outputs": [
        {
          "output_type": "stream",
          "name": "stdout",
          "text": [
            "+---+----------+-----------+------+--------------+--------------------+---------+-----------+-----------+\n",
            "| id|first_name|  last_name|gender|          City|            JobTitle|   Salary|   Latitude|  Longitude|\n",
            "+---+----------+-----------+------+--------------+--------------------+---------+-----------+-----------+\n",
            "|  3|    Alvera|   Di Boldi|Female|          null|                null|$57576.52| 39.9947462|116.3397725|\n",
            "| 21|      Alon|   Chasteau|  Male|         Xin’e|     Web Developer I|$62755.85|   49.16291|  127.98658|\n",
            "| 81|     Alvin|      Doman|  Male|          Niny|Research Assistant I|$53258.86| 44.4868448| 43.9408057|\n",
            "|101|     Alene|        Odd|Female| María la Baja|Accounting Assist...|$37379.03|  9.9141597|-75.4111644|\n",
            "|115|    Allard|     Cordel|  Male|     Mieścisko|Compensation Analyst|$18907.81| 45.8630194|   5.947966|\n",
            "|117|      Alli|    Mc Pake|Female|        Gerong|     Staff Scientist|$58172.73| -6.2002533|106.8221628|\n",
            "|160|     Alane| Southworth|Female|     Eindhoven|Programmer Analyst I|$24042.10| 51.4131558|  5.4852794|\n",
            "|193|    Alfons|  Dumbleton|  Male|         Shūsh|Research Assistan...|$88389.56| 32.1957948|  48.254283|\n",
            "|244|      Alfy|    McGrale|  Male|        Domsjö|Mechanical System...|$79852.59| 63.2664676| 18.6285484|\n",
            "|276|   Alyosha|  Guerreiro|  Male|          Bile|               Nurse|$97909.88| 48.5004939| 39.0489509|\n",
            "|287|    Alexei|    Harriot|  Male|     Shangjing|    Junior Executive|$55711.38|  24.390595| 114.522393|\n",
            "|299|     Alley|Brockington|  Male|     Balahovit|Community Outreac...|$74464.26| 40.2544003| 44.6027766|\n",
            "|347|   Allayne|      Dooly|  Male|    Kastornoye|  Help Desk Operator|$23794.18| 51.8315426| 38.1394579|\n",
            "|359|     Alyse|      Meese|Female|      Getengan|Safety Technician IV|$23843.06| -3.2325539|119.9484864|\n",
            "|405|  Alasteir|    Sotheby|  Male|       Secunda|  Analyst Programmer|$21326.73|-26.5157792| 29.1913918|\n",
            "|429|Alessandro|    Shearer|  Male|Banjar Kelodan|            VP Sales|$51979.53| -8.1233399|115.3389332|\n",
            "|501|   Almeria|    Turbern|Female|         Lanús| Structural Engineer|$86294.59|-34.6672811|-58.6162188|\n",
            "|534|     Albie|    Kettell|  Male|        Magugu|            VP Sales|$45042.14| -4.0003104|  35.778497|\n",
            "|655|   Alphard|      Sidey|  Male|      Linglong| Clinical Specialist|$94883.85|  37.365238|  120.44763|\n",
            "|722|    Alonso|      Gueny|  Male|        Gaopai|Administrative Of...|$14528.73|  25.487867| 115.614437|\n",
            "+---+----------+-----------+------+--------------+--------------------+---------+-----------+-----------+\n",
            "only showing top 20 rows\n",
            "\n"
          ]
        }
      ]
    },
    {
      "cell_type": "code",
      "source": [
        "# filter the id numbers and display the range of data \n",
        "df_filter = df.filter(df.id.between(5,9))\n",
        "df_filter.show()"
      ],
      "metadata": {
        "colab": {
          "base_uri": "https://localhost:8080/"
        },
        "id": "55bGRejlKuTt",
        "outputId": "fa230766-fd6a-43a0-9a14-346cef010acc"
      },
      "execution_count": null,
      "outputs": [
        {
          "output_type": "stream",
          "name": "stdout",
          "text": [
            "+---+----------+----------+------+---------------+--------------------+---------+----------+----------+\n",
            "| id|first_name| last_name|gender|           City|            JobTitle|   Salary|  Latitude| Longitude|\n",
            "+---+----------+----------+------+---------------+--------------------+---------+----------+----------+\n",
            "|  5|  Sherwood|   Macieja|  Male|      Mytishchi|            VP Sales|$63863.09|      null|37.6489954|\n",
            "|  6|     Maris|      Folk|Female|Kinsealy-Drinan|      Civil Engineer|$30101.16|53.4266145|-6.1644997|\n",
            "|  7|     Masha|    Divers|Female|         Dachun|                null|$25090.87| 24.879416|118.930111|\n",
            "|  8|   Goddart|     Flear|  Male|      Trélissac|Desktop Support T...|$46116.36|45.1905186| 0.7423124|\n",
            "|  9|      Roth|O'Cannavan|  Male|         Heitan|VP Product Manage...|$73697.10| 32.027934|106.657113|\n",
            "+---+----------+----------+------+---------------+--------------------+---------+----------+----------+\n",
            "\n"
          ]
        }
      ]
    },
    {
      "cell_type": "code",
      "source": [
        "# filter and display the data based on multiple inputs\n",
        "df_filter = df.filter(df.first_name.isin('Albie','Alon','Alvin'))\n",
        "df_filter.show()"
      ],
      "metadata": {
        "colab": {
          "base_uri": "https://localhost:8080/"
        },
        "id": "PKfAg6-dLAQQ",
        "outputId": "2c047f46-6116-41ea-e26c-12e0841bd029"
      },
      "execution_count": null,
      "outputs": [
        {
          "output_type": "stream",
          "name": "stdout",
          "text": [
            "+---+----------+---------+------+------+--------------------+---------+----------+----------+\n",
            "| id|first_name|last_name|gender|  City|            JobTitle|   Salary|  Latitude| Longitude|\n",
            "+---+----------+---------+------+------+--------------------+---------+----------+----------+\n",
            "| 21|      Alon| Chasteau|  Male| Xin’e|     Web Developer I|$62755.85|  49.16291| 127.98658|\n",
            "| 81|     Alvin|    Doman|  Male|  Niny|Research Assistant I|$53258.86|44.4868448|43.9408057|\n",
            "|534|     Albie|  Kettell|  Male|Magugu|            VP Sales|$45042.14|-4.0003104| 35.778497|\n",
            "+---+----------+---------+------+------+--------------------+---------+----------+----------+\n",
            "\n"
          ]
        }
      ]
    },
    {
      "cell_type": "code",
      "source": [
        "# display the substring of name in a seperate column\n",
        "df_substr = df.select(df.first_name,df.first_name.substr(1,5).alias('name'))\n",
        "df_substr.show()"
      ],
      "metadata": {
        "colab": {
          "base_uri": "https://localhost:8080/"
        },
        "id": "R_P9gENdLW8n",
        "outputId": "d0445b7e-4f0d-4702-d5d4-bc8025da2afd"
      },
      "execution_count": null,
      "outputs": [
        {
          "output_type": "stream",
          "name": "stdout",
          "text": [
            "+----------+-----+\n",
            "|first_name| name|\n",
            "+----------+-----+\n",
            "|   Melinde|Melin|\n",
            "|  Kimberly|Kimbe|\n",
            "|    Alvera|Alver|\n",
            "|   Shannon|Shann|\n",
            "|  Sherwood|Sherw|\n",
            "|     Maris|Maris|\n",
            "|     Masha|Masha|\n",
            "|   Goddart|Godda|\n",
            "|      Roth| Roth|\n",
            "|      Bran| Bran|\n",
            "|    Kylynn|Kylyn|\n",
            "|       Rey|  Rey|\n",
            "|      Kerr| Kerr|\n",
            "|    Mickie|Micki|\n",
            "|    Kaspar|Kaspa|\n",
            "|    Norbie|Norbi|\n",
            "|    Claude|Claud|\n",
            "|     Thain|Thain|\n",
            "|  Tiffanie|Tiffa|\n",
            "|    Ettore|Ettor|\n",
            "+----------+-----+\n",
            "only showing top 20 rows\n",
            "\n"
          ]
        }
      ]
    },
    {
      "cell_type": "code",
      "source": [
        "# filter nultiple columns like sort based on particular first name and city\n",
        "df_filter = df.filter(df.first_name.isin('Albie') & df.City.like('%gu'))\n",
        "df_filter.show()"
      ],
      "metadata": {
        "colab": {
          "base_uri": "https://localhost:8080/"
        },
        "id": "uKgsI65aOXxw",
        "outputId": "f81f11e3-cfea-437a-9009-f03fdb652a9b"
      },
      "execution_count": null,
      "outputs": [
        {
          "output_type": "stream",
          "name": "stdout",
          "text": [
            "+---+----------+---------+------+------+--------+---------+----------+---------+\n",
            "| id|first_name|last_name|gender|  City|JobTitle|   Salary|  Latitude|Longitude|\n",
            "+---+----------+---------+------+------+--------+---------+----------+---------+\n",
            "|534|     Albie|  Kettell|  Male|Magugu|VP Sales|$45042.14|-4.0003104|35.778497|\n",
            "+---+----------+---------+------+------+--------+---------+----------+---------+\n",
            "\n"
          ]
        }
      ]
    },
    {
      "cell_type": "code",
      "source": [
        "# filter nultiple sort values in id\n",
        "df_filter = df.filter((df.id>14)&(df.id<19))\n",
        "df_filter.show()"
      ],
      "metadata": {
        "colab": {
          "base_uri": "https://localhost:8080/"
        },
        "id": "O1wXoAzrOMYc",
        "outputId": "d147c75e-ed08-4092-ce04-9cf88df5df55"
      },
      "execution_count": null,
      "outputs": [
        {
          "output_type": "stream",
          "name": "stdout",
          "text": [
            "+---+----------+---------+------+--------------+--------------------+---------+----------+----------+\n",
            "| id|first_name|last_name|gender|          City|            JobTitle|   Salary|  Latitude| Longitude|\n",
            "+---+----------+---------+------+--------------+--------------------+---------+----------+----------+\n",
            "| 15|    Kaspar|    Pally|  Male|        Chrást|  Analyst Programmer|$40163.03|49.7923299|13.4915324|\n",
            "| 16|    Norbie|   Gwyllt|  Male|        Xijiao|              Editor|$32492.73|43.4945737| 5.8978018|\n",
            "| 17|    Claude|   Briant|Female|     Mieścisko|Research Assistan...|$51862.48|52.7441662|17.3278637|\n",
            "| 18|     Thain|   Habbon|  Male|Foros do Trapo|     Design Engineer|$42135.67| 38.696249|-8.7098337|\n",
            "+---+----------+---------+------+--------------+--------------------+---------+----------+----------+\n",
            "\n"
          ]
        }
      ]
    },
    {
      "cell_type": "code",
      "source": [
        "# create a temporary table to access the data using sql queries\n",
        "df.registerTempTable('original')\n",
        "df"
      ],
      "metadata": {
        "colab": {
          "base_uri": "https://localhost:8080/"
        },
        "id": "rNmupWSYPL3h",
        "outputId": "2f56ad09-093a-42b7-a020-355173bc5fcb"
      },
      "execution_count": null,
      "outputs": [
        {
          "output_type": "execute_result",
          "data": {
            "text/plain": [
              "DataFrame[id: string, first_name: string, last_name: string, gender: string, City: string, JobTitle: string, Salary: string, Latitude: string, Longitude: string]"
            ]
          },
          "metadata": {},
          "execution_count": 89
        }
      ]
    },
    {
      "cell_type": "code",
      "source": [
        "# display the entire table data using SELECT statement\n",
        "query1 = spark.sql('select * from original')\n",
        "query1.show()"
      ],
      "metadata": {
        "colab": {
          "base_uri": "https://localhost:8080/"
        },
        "id": "CdgAG_rlPe9e",
        "outputId": "150d3469-0b2b-4ec9-b0b9-905b0d938bd8"
      },
      "execution_count": null,
      "outputs": [
        {
          "output_type": "stream",
          "name": "stdout",
          "text": [
            "+---+----------+----------+------+---------------+--------------------+---------+----------+-----------+\n",
            "| id|first_name| last_name|gender|           City|            JobTitle|   Salary|  Latitude|  Longitude|\n",
            "+---+----------+----------+------+---------------+--------------------+---------+----------+-----------+\n",
            "|  1|   Melinde| Shilburne|Female|      Nowa Ruda| Assistant Professor|$57438.18|50.5774075| 16.4967184|\n",
            "|  2|  Kimberly|Von Welden|Female|         Bulgan|       Programmer II|$62846.60|48.8231572|103.5218199|\n",
            "|  3|    Alvera|  Di Boldi|Female|           null|                null|$57576.52|39.9947462|116.3397725|\n",
            "|  4|   Shannon| O'Griffin|  Male|  Divnomorskoye|Budget/Accounting...|$61489.23|44.5047212| 38.1300171|\n",
            "|  5|  Sherwood|   Macieja|  Male|      Mytishchi|            VP Sales|$63863.09|      null| 37.6489954|\n",
            "|  6|     Maris|      Folk|Female|Kinsealy-Drinan|      Civil Engineer|$30101.16|53.4266145| -6.1644997|\n",
            "|  7|     Masha|    Divers|Female|         Dachun|                null|$25090.87| 24.879416| 118.930111|\n",
            "|  8|   Goddart|     Flear|  Male|      Trélissac|Desktop Support T...|$46116.36|45.1905186|  0.7423124|\n",
            "|  9|      Roth|O'Cannavan|  Male|         Heitan|VP Product Manage...|$73697.10| 32.027934| 106.657113|\n",
            "| 10|      Bran|   Trahear|  Male|       Arbeláez|Mechanical System...|$68098.42|  4.272793| -74.416014|\n",
            "| 11|    Kylynn|   Lockart|Female|       El Cardo|Nuclear Power Eng...|$13604.63|     -5.85|-79.8833329|\n",
            "| 12|       Rey|    Meharg|Female|    Wangqingtuo|Systems Administr...|$73423.70| 39.172378| 116.931607|\n",
            "| 13|      Kerr|    Braden|  Male|      Sułkowice|Compensation Analyst|$33432.99|49.8151822| 19.3771749|\n",
            "| 14|    Mickie| Whanstall|  Male|    Springfield|Assistant Media P...|$50838.53|42.1014803|-72.5766759|\n",
            "| 15|    Kaspar|     Pally|  Male|         Chrást|  Analyst Programmer|$40163.03|49.7923299| 13.4915324|\n",
            "| 16|    Norbie|    Gwyllt|  Male|         Xijiao|              Editor|$32492.73|43.4945737|  5.8978018|\n",
            "| 17|    Claude|    Briant|Female|      Mieścisko|Research Assistan...|$51862.48|52.7441662| 17.3278637|\n",
            "| 18|     Thain|    Habbon|  Male| Foros do Trapo|     Design Engineer|$42135.67| 38.696249| -8.7098337|\n",
            "| 19|  Tiffanie|  Pattison|Female|    Jabungsisir|Senior Financial ...|$91925.08|-7.7232567|113.4686802|\n",
            "| 20|    Ettore|  Gerriets|  Male|          Pedra| Staff Accountant IV|$73921.33|40.7172049| -8.3625148|\n",
            "+---+----------+----------+------+---------------+--------------------+---------+----------+-----------+\n",
            "only showing top 20 rows\n",
            "\n"
          ]
        }
      ]
    },
    {
      "cell_type": "code",
      "source": [
        "# display the full name of each female employee\n",
        "query2 = spark.sql('select concat(first_name,\" \",last_name) as fullname from original where gender=\"Female\"')\n",
        "query2.show()"
      ],
      "metadata": {
        "colab": {
          "base_uri": "https://localhost:8080/"
        },
        "id": "MaS0-kSHP3WL",
        "outputId": "41244289-58c4-438f-d66f-647491533f80"
      },
      "execution_count": null,
      "outputs": [
        {
          "output_type": "stream",
          "name": "stdout",
          "text": [
            "+-------------------+\n",
            "|           fullname|\n",
            "+-------------------+\n",
            "|  Melinde Shilburne|\n",
            "|Kimberly Von Welden|\n",
            "|    Alvera Di Boldi|\n",
            "|         Maris Folk|\n",
            "|       Masha Divers|\n",
            "|     Kylynn Lockart|\n",
            "|         Rey Meharg|\n",
            "|      Claude Briant|\n",
            "|  Tiffanie Pattison|\n",
            "|    Lurleen Janczak|\n",
            "|      Nichol Holtum|\n",
            "|       Shaun Bridle|\n",
            "|     Leandra Anfrey|\n",
            "|    Jaquelyn Hazard|\n",
            "|  Prudence Honacker|\n",
            "|       Cherey Liger|\n",
            "|          Neda Krop|\n",
            "|    Barbi Fattorini|\n",
            "|   Lonnie Townshend|\n",
            "|    Valida Salzberg|\n",
            "+-------------------+\n",
            "only showing top 20 rows\n",
            "\n"
          ]
        }
      ]
    },
    {
      "cell_type": "code",
      "source": [
        "# display the salary in float format\n",
        "from pyspark.sql.functions import *\n",
        "df = df.withColumn(\"clean_salary\",df.Salary.substr(2,100).cast('float'))\n",
        "df.show()"
      ],
      "metadata": {
        "colab": {
          "base_uri": "https://localhost:8080/"
        },
        "id": "pVqkyFVfQbQM",
        "outputId": "51c9f78d-3907-4e69-c0e5-ab84cd2fb379"
      },
      "execution_count": null,
      "outputs": [
        {
          "output_type": "stream",
          "name": "stdout",
          "text": [
            "+---+----------+----------+------+---------------+--------------------+---------+----------+-----------+------------+\n",
            "| id|first_name| last_name|gender|           City|            JobTitle|   Salary|  Latitude|  Longitude|clean_salary|\n",
            "+---+----------+----------+------+---------------+--------------------+---------+----------+-----------+------------+\n",
            "|  1|   Melinde| Shilburne|Female|      Nowa Ruda| Assistant Professor|$57438.18|50.5774075| 16.4967184|    57438.18|\n",
            "|  2|  Kimberly|Von Welden|Female|         Bulgan|       Programmer II|$62846.60|48.8231572|103.5218199|     62846.6|\n",
            "|  3|    Alvera|  Di Boldi|Female|           null|                null|$57576.52|39.9947462|116.3397725|    57576.52|\n",
            "|  4|   Shannon| O'Griffin|  Male|  Divnomorskoye|Budget/Accounting...|$61489.23|44.5047212| 38.1300171|    61489.23|\n",
            "|  5|  Sherwood|   Macieja|  Male|      Mytishchi|            VP Sales|$63863.09|      null| 37.6489954|    63863.09|\n",
            "|  6|     Maris|      Folk|Female|Kinsealy-Drinan|      Civil Engineer|$30101.16|53.4266145| -6.1644997|    30101.16|\n",
            "|  7|     Masha|    Divers|Female|         Dachun|                null|$25090.87| 24.879416| 118.930111|    25090.87|\n",
            "|  8|   Goddart|     Flear|  Male|      Trélissac|Desktop Support T...|$46116.36|45.1905186|  0.7423124|    46116.36|\n",
            "|  9|      Roth|O'Cannavan|  Male|         Heitan|VP Product Manage...|$73697.10| 32.027934| 106.657113|     73697.1|\n",
            "| 10|      Bran|   Trahear|  Male|       Arbeláez|Mechanical System...|$68098.42|  4.272793| -74.416014|    68098.42|\n",
            "| 11|    Kylynn|   Lockart|Female|       El Cardo|Nuclear Power Eng...|$13604.63|     -5.85|-79.8833329|    13604.63|\n",
            "| 12|       Rey|    Meharg|Female|    Wangqingtuo|Systems Administr...|$73423.70| 39.172378| 116.931607|     73423.7|\n",
            "| 13|      Kerr|    Braden|  Male|      Sułkowice|Compensation Analyst|$33432.99|49.8151822| 19.3771749|    33432.99|\n",
            "| 14|    Mickie| Whanstall|  Male|    Springfield|Assistant Media P...|$50838.53|42.1014803|-72.5766759|    50838.53|\n",
            "| 15|    Kaspar|     Pally|  Male|         Chrást|  Analyst Programmer|$40163.03|49.7923299| 13.4915324|    40163.03|\n",
            "| 16|    Norbie|    Gwyllt|  Male|         Xijiao|              Editor|$32492.73|43.4945737|  5.8978018|    32492.73|\n",
            "| 17|    Claude|    Briant|Female|      Mieścisko|Research Assistan...|$51862.48|52.7441662| 17.3278637|    51862.48|\n",
            "| 18|     Thain|    Habbon|  Male| Foros do Trapo|     Design Engineer|$42135.67| 38.696249| -8.7098337|    42135.67|\n",
            "| 19|  Tiffanie|  Pattison|Female|    Jabungsisir|Senior Financial ...|$91925.08|-7.7232567|113.4686802|    91925.08|\n",
            "| 20|    Ettore|  Gerriets|  Male|          Pedra| Staff Accountant IV|$73921.33|40.7172049| -8.3625148|    73921.33|\n",
            "+---+----------+----------+------+---------------+--------------------+---------+----------+-----------+------------+\n",
            "only showing top 20 rows\n",
            "\n"
          ]
        }
      ]
    },
    {
      "cell_type": "code",
      "source": [
        "# display monthly salary of each employee\n",
        "df = df.withColumn(\"monthly_salary\",df.clean_salary/12)\n",
        "df.show()"
      ],
      "metadata": {
        "colab": {
          "base_uri": "https://localhost:8080/"
        },
        "id": "y1ZAmpajQ8vj",
        "outputId": "d1e647cd-138d-49f5-c47e-eacc7351d03c"
      },
      "execution_count": null,
      "outputs": [
        {
          "output_type": "stream",
          "name": "stdout",
          "text": [
            "+---+----------+----------+------+---------------+--------------------+---------+----------+-----------+------------+------------------+\n",
            "| id|first_name| last_name|gender|           City|            JobTitle|   Salary|  Latitude|  Longitude|clean_salary|    monthly_salary|\n",
            "+---+----------+----------+------+---------------+--------------------+---------+----------+-----------+------------+------------------+\n",
            "|  1|   Melinde| Shilburne|Female|      Nowa Ruda| Assistant Professor|$57438.18|50.5774075| 16.4967184|    57438.18| 4786.514973958333|\n",
            "|  2|  Kimberly|Von Welden|Female|         Bulgan|       Programmer II|$62846.60|48.8231572|103.5218199|     62846.6|    5237.216796875|\n",
            "|  3|    Alvera|  Di Boldi|Female|           null|                null|$57576.52|39.9947462|116.3397725|    57576.52| 4798.043294270833|\n",
            "|  4|   Shannon| O'Griffin|  Male|  Divnomorskoye|Budget/Accounting...|$61489.23|44.5047212| 38.1300171|    61489.23|   5124.1025390625|\n",
            "|  5|  Sherwood|   Macieja|  Male|      Mytishchi|            VP Sales|$63863.09|      null| 37.6489954|    63863.09| 5321.924153645833|\n",
            "|  6|     Maris|      Folk|Female|Kinsealy-Drinan|      Civil Engineer|$30101.16|53.4266145| -6.1644997|    30101.16|2508.4300130208335|\n",
            "|  7|     Masha|    Divers|Female|         Dachun|                null|$25090.87| 24.879416| 118.930111|    25090.87|  2090.90576171875|\n",
            "|  8|   Goddart|     Flear|  Male|      Trélissac|Desktop Support T...|$46116.36|45.1905186|  0.7423124|    46116.36|3843.0299479166665|\n",
            "|  9|      Roth|O'Cannavan|  Male|         Heitan|VP Product Manage...|$73697.10| 32.027934| 106.657113|     73697.1| 6141.425130208333|\n",
            "| 10|      Bran|   Trahear|  Male|       Arbeláez|Mechanical System...|$68098.42|  4.272793| -74.416014|    68098.42| 5674.868489583333|\n",
            "| 11|    Kylynn|   Lockart|Female|       El Cardo|Nuclear Power Eng...|$13604.63|     -5.85|-79.8833329|    13604.63|1133.7191569010417|\n",
            "| 12|       Rey|    Meharg|Female|    Wangqingtuo|Systems Administr...|$73423.70| 39.172378| 116.931607|     73423.7| 6118.641927083333|\n",
            "| 13|      Kerr|    Braden|  Male|      Sułkowice|Compensation Analyst|$33432.99|49.8151822| 19.3771749|    33432.99|2786.0823567708335|\n",
            "| 14|    Mickie| Whanstall|  Male|    Springfield|Assistant Media P...|$50838.53|42.1014803|-72.5766759|    50838.53| 4236.544270833333|\n",
            "| 15|    Kaspar|     Pally|  Male|         Chrást|  Analyst Programmer|$40163.03|49.7923299| 13.4915324|    40163.03|3346.9192708333335|\n",
            "| 16|    Norbie|    Gwyllt|  Male|         Xijiao|              Editor|$32492.73|43.4945737|  5.8978018|    32492.73|   2707.7275390625|\n",
            "| 17|    Claude|    Briant|Female|      Mieścisko|Research Assistan...|$51862.48|52.7441662| 17.3278637|    51862.48| 4321.873372395833|\n",
            "| 18|     Thain|    Habbon|  Male| Foros do Trapo|     Design Engineer|$42135.67| 38.696249| -8.7098337|    42135.67|3511.3059895833335|\n",
            "| 19|  Tiffanie|  Pattison|Female|    Jabungsisir|Senior Financial ...|$91925.08|-7.7232567|113.4686802|    91925.08| 7660.423177083333|\n",
            "| 20|    Ettore|  Gerriets|  Male|          Pedra| Staff Accountant IV|$73921.33|40.7172049| -8.3625148|    73921.33| 6160.110677083333|\n",
            "+---+----------+----------+------+---------------+--------------------+---------+----------+-----------+------------+------------------+\n",
            "only showing top 20 rows\n",
            "\n"
          ]
        }
      ]
    },
    {
      "cell_type": "code",
      "source": [
        "# create a seperate column to answer the question 'are you female'\n",
        "df = df.withColumn('Are you Female',when(df.gender == 'Female', 'Yes').otherwise('No'))\n",
        "df.show()"
      ],
      "metadata": {
        "colab": {
          "base_uri": "https://localhost:8080/"
        },
        "id": "2VaFSP1BRJgD",
        "outputId": "4c0d9a63-6a92-42aa-c9b3-517c4fb171f1"
      },
      "execution_count": null,
      "outputs": [
        {
          "output_type": "stream",
          "name": "stdout",
          "text": [
            "+---+----------+----------+------+---------------+--------------------+---------+----------+-----------+------------+------------------+--------------+\n",
            "| id|first_name| last_name|gender|           City|            JobTitle|   Salary|  Latitude|  Longitude|clean_salary|    monthly_salary|Are you Female|\n",
            "+---+----------+----------+------+---------------+--------------------+---------+----------+-----------+------------+------------------+--------------+\n",
            "|  1|   Melinde| Shilburne|Female|      Nowa Ruda| Assistant Professor|$57438.18|50.5774075| 16.4967184|    57438.18| 4786.514973958333|           Yes|\n",
            "|  2|  Kimberly|Von Welden|Female|         Bulgan|       Programmer II|$62846.60|48.8231572|103.5218199|     62846.6|    5237.216796875|           Yes|\n",
            "|  3|    Alvera|  Di Boldi|Female|           null|                null|$57576.52|39.9947462|116.3397725|    57576.52| 4798.043294270833|           Yes|\n",
            "|  4|   Shannon| O'Griffin|  Male|  Divnomorskoye|Budget/Accounting...|$61489.23|44.5047212| 38.1300171|    61489.23|   5124.1025390625|            No|\n",
            "|  5|  Sherwood|   Macieja|  Male|      Mytishchi|            VP Sales|$63863.09|      null| 37.6489954|    63863.09| 5321.924153645833|            No|\n",
            "|  6|     Maris|      Folk|Female|Kinsealy-Drinan|      Civil Engineer|$30101.16|53.4266145| -6.1644997|    30101.16|2508.4300130208335|           Yes|\n",
            "|  7|     Masha|    Divers|Female|         Dachun|                null|$25090.87| 24.879416| 118.930111|    25090.87|  2090.90576171875|           Yes|\n",
            "|  8|   Goddart|     Flear|  Male|      Trélissac|Desktop Support T...|$46116.36|45.1905186|  0.7423124|    46116.36|3843.0299479166665|            No|\n",
            "|  9|      Roth|O'Cannavan|  Male|         Heitan|VP Product Manage...|$73697.10| 32.027934| 106.657113|     73697.1| 6141.425130208333|            No|\n",
            "| 10|      Bran|   Trahear|  Male|       Arbeláez|Mechanical System...|$68098.42|  4.272793| -74.416014|    68098.42| 5674.868489583333|            No|\n",
            "| 11|    Kylynn|   Lockart|Female|       El Cardo|Nuclear Power Eng...|$13604.63|     -5.85|-79.8833329|    13604.63|1133.7191569010417|           Yes|\n",
            "| 12|       Rey|    Meharg|Female|    Wangqingtuo|Systems Administr...|$73423.70| 39.172378| 116.931607|     73423.7| 6118.641927083333|           Yes|\n",
            "| 13|      Kerr|    Braden|  Male|      Sułkowice|Compensation Analyst|$33432.99|49.8151822| 19.3771749|    33432.99|2786.0823567708335|            No|\n",
            "| 14|    Mickie| Whanstall|  Male|    Springfield|Assistant Media P...|$50838.53|42.1014803|-72.5766759|    50838.53| 4236.544270833333|            No|\n",
            "| 15|    Kaspar|     Pally|  Male|         Chrást|  Analyst Programmer|$40163.03|49.7923299| 13.4915324|    40163.03|3346.9192708333335|            No|\n",
            "| 16|    Norbie|    Gwyllt|  Male|         Xijiao|              Editor|$32492.73|43.4945737|  5.8978018|    32492.73|   2707.7275390625|            No|\n",
            "| 17|    Claude|    Briant|Female|      Mieścisko|Research Assistan...|$51862.48|52.7441662| 17.3278637|    51862.48| 4321.873372395833|           Yes|\n",
            "| 18|     Thain|    Habbon|  Male| Foros do Trapo|     Design Engineer|$42135.67| 38.696249| -8.7098337|    42135.67|3511.3059895833335|            No|\n",
            "| 19|  Tiffanie|  Pattison|Female|    Jabungsisir|Senior Financial ...|$91925.08|-7.7232567|113.4686802|    91925.08| 7660.423177083333|           Yes|\n",
            "| 20|    Ettore|  Gerriets|  Male|          Pedra| Staff Accountant IV|$73921.33|40.7172049| -8.3625148|    73921.33| 6160.110677083333|            No|\n",
            "+---+----------+----------+------+---------------+--------------------+---------+----------+-----------+------------+------------------+--------------+\n",
            "only showing top 20 rows\n",
            "\n"
          ]
        }
      ]
    },
    {
      "cell_type": "code",
      "source": [
        "# display the total, average, max, min salary based on gender\n",
        "import pyspark.sql.functions as sqlfunc\n",
        "df1 = df.groupBy('gender').agg(sqlfunc.sum('clean_salary').alias('Total'),\n",
        "                               sqlfunc.avg('clean_salary').alias('Average'),\n",
        "                               sqlfunc.max('clean_salary').alias('Max Salary'),\n",
        "                               sqlfunc.min('clean_salary').alias('Min Salary'))\n",
        "df1.show()"
      ],
      "metadata": {
        "colab": {
          "base_uri": "https://localhost:8080/"
        },
        "id": "zt12VuUgR7wC",
        "outputId": "ecda7d23-7057-491b-cd49-0465da2e64f5"
      },
      "execution_count": null,
      "outputs": [
        {
          "output_type": "stream",
          "name": "stdout",
          "text": [
            "+------+--------------------+-----------------+----------+----------+\n",
            "|gender|               Total|          Average|Max Salary|Min Salary|\n",
            "+------+--------------------+-----------------+----------+----------+\n",
            "|Female|2.7364519950195312E7|55618.94298820185|  99948.28|  10616.44|\n",
            "|  Male|2.8123435678710938E7|55361.09385573019|  99942.92|  10101.92|\n",
            "+------+--------------------+-----------------+----------+----------+\n",
            "\n"
          ]
        }
      ]
    },
    {
      "cell_type": "code",
      "source": [
        "# display the total, average, max, min salary based on gender and city\n",
        "import pyspark.sql.functions as sqlfunc\n",
        "df1 = df.groupBy('gender','City').agg(sqlfunc.sum('clean_salary').alias('Total'),\n",
        "                               sqlfunc.avg('clean_salary').alias('Average'),\n",
        "                               sqlfunc.max('clean_salary').alias('MaxSalary'),\n",
        "                               sqlfunc.min('clean_salary').alias('MinSalary'))\n",
        "df1.show()"
      ],
      "metadata": {
        "colab": {
          "base_uri": "https://localhost:8080/"
        },
        "id": "-bUvMNO2VS-l",
        "outputId": "c40845cd-2432-4866-88af-e99b77ea2745"
      },
      "execution_count": null,
      "outputs": [
        {
          "output_type": "stream",
          "name": "stdout",
          "text": [
            "+------+-----------------+----------------+----------------+---------+---------+\n",
            "|gender|             City|           Total|         Average|MaxSalary|MinSalary|\n",
            "+------+-----------------+----------------+----------------+---------+---------+\n",
            "|Female|           Dachun| 25090.869140625| 25090.869140625| 25090.87| 25090.87|\n",
            "|Female|      Trollhättan|106623.369140625|53311.6845703125|  79792.9| 26830.47|\n",
            "|  Male|          Wenshao| 18941.509765625| 18941.509765625| 18941.51| 18941.51|\n",
            "|Female|            Lanas| 13765.900390625| 13765.900390625|  13765.9|  13765.9|\n",
            "|  Male|            Mörön|    77940.078125|    77940.078125| 77940.08| 77940.08|\n",
            "|Female|             Same|   73369.7265625|   73369.7265625| 73369.73| 73369.73|\n",
            "|Female|          Sawahan|  24608.83984375|  24608.83984375| 24608.84| 24608.84|\n",
            "|  Male|Monte da Boavista|     98586.71875|     98586.71875| 98586.72| 98586.72|\n",
            "|Female|         Nusajaya|    71637.921875|    71637.921875| 71637.92| 71637.92|\n",
            "|Female|            Kista|   96192.3984375|   96192.3984375|  96192.4|  96192.4|\n",
            "|  Male|       Pittsburgh|    83121.890625|    83121.890625| 83121.89| 83121.89|\n",
            "|  Male|       Neftegorsk|     97531.46875|     97531.46875| 97531.47| 97531.47|\n",
            "|Female|          Yanaoca|     54906.21875|     54906.21875| 54906.22| 54906.22|\n",
            "|  Male|            Tambo|  40264.91015625|  40264.91015625| 40264.91| 40264.91|\n",
            "|  Male|        Mytishchi|  63863.08984375|  63863.08984375| 63863.09| 63863.09|\n",
            "|  Male|            Pedra|    73921.328125|    73921.328125| 73921.33| 73921.33|\n",
            "|Female|            Dhaka|    68368.546875|    68368.546875| 68368.55| 68368.55|\n",
            "|  Male|        Mosteiros|  62508.87109375|  62508.87109375| 62508.87| 62508.87|\n",
            "|  Male|           Roanne|   93339.9921875|   93339.9921875| 93339.99| 93339.99|\n",
            "|Female|        Eindhoven| 24042.099609375| 24042.099609375|  24042.1|  24042.1|\n",
            "+------+-----------------+----------------+----------------+---------+---------+\n",
            "only showing top 20 rows\n",
            "\n"
          ]
        }
      ]
    },
    {
      "cell_type": "code",
      "source": [
        "# write the dataframe to the file in csv, json, parquet formats\n",
        "df1.write.csv('df_output.csv')\n",
        "df1.write.json('df_output.json')\n",
        "df1.write.parquet('df_output.parquet')"
      ],
      "metadata": {
        "id": "S8Efk57qVjaX"
      },
      "execution_count": null,
      "outputs": []
    },
    {
      "cell_type": "code",
      "source": [
        "# how to delete the csv folder with files in it\n",
        "!rm -rf df_output.csv"
      ],
      "metadata": {
        "id": "ed_eXC52Wmln"
      },
      "execution_count": null,
      "outputs": []
    },
    {
      "cell_type": "code",
      "source": [
        "# how to delete the json folder with files in it\n",
        "!rm -rf df_output.json"
      ],
      "metadata": {
        "id": "hEL-V638WyCy"
      },
      "execution_count": null,
      "outputs": []
    },
    {
      "cell_type": "code",
      "source": [
        "# how to delete the parquet folder with files in it\n",
        "!rm -rf df_output.parquet"
      ],
      "metadata": {
        "id": "72I9XHhsXEUr"
      },
      "execution_count": null,
      "outputs": []
    }
  ]
}