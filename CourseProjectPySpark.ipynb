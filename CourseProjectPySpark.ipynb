{
  "nbformat": 4,
  "nbformat_minor": 0,
  "metadata": {
    "colab": {
      "provenance": [],
      "authorship_tag": "ABX9TyPq913NN8u4LSE8X96O6NON",
      "include_colab_link": true
    },
    "kernelspec": {
      "name": "python3",
      "display_name": "Python 3"
    },
    "language_info": {
      "name": "python"
    }
  },
  "cells": [
    {
      "cell_type": "markdown",
      "metadata": {
        "id": "view-in-github",
        "colab_type": "text"
      },
      "source": [
        "<a href=\"https://colab.research.google.com/github/ayesha-anjum-shaik/PySparkCrashCourse/blob/main/CourseProjectPySpark.ipynb\" target=\"_parent\"><img src=\"https://colab.research.google.com/assets/colab-badge.svg\" alt=\"Open In Colab\"/></a>"
      ]
    },
    {
      "cell_type": "code",
      "execution_count": 1,
      "metadata": {
        "colab": {
          "base_uri": "https://localhost:8080/",
          "height": 256
        },
        "id": "YNdR__jGwJT_",
        "outputId": "ade313ad-9a9e-46fc-c5a2-29f685fa103d"
      },
      "outputs": [
        {
          "output_type": "stream",
          "name": "stdout",
          "text": [
            "challenge.csv  spark-3.1.1-bin-hadoop3.2\n",
            "sample_data    spark-3.1.1-bin-hadoop3.2.tgz\n"
          ]
        },
        {
          "output_type": "execute_result",
          "data": {
            "text/plain": [
              "<pyspark.sql.session.SparkSession at 0x7efe654805e0>"
            ],
            "text/html": [
              "\n",
              "            <div>\n",
              "                <p><b>SparkSession - in-memory</b></p>\n",
              "                \n",
              "        <div>\n",
              "            <p><b>SparkContext</b></p>\n",
              "\n",
              "            <p><a href=\"http://5f008a77cc48:4040\">Spark UI</a></p>\n",
              "\n",
              "            <dl>\n",
              "              <dt>Version</dt>\n",
              "                <dd><code>v3.1.1</code></dd>\n",
              "              <dt>Master</dt>\n",
              "                <dd><code>local[*]</code></dd>\n",
              "              <dt>AppName</dt>\n",
              "                <dd><code>pyspark-shell</code></dd>\n",
              "            </dl>\n",
              "        </div>\n",
              "        \n",
              "            </div>\n",
              "        "
            ]
          },
          "metadata": {},
          "execution_count": 1
        }
      ],
      "source": [
        "!apt-get install openjdk-8-jdk-headless -qq > /dev/null\n",
        "!wget -q http://archive.apache.org/dist/spark/spark-3.1.1/spark-3.1.1-bin-hadoop3.2.tgz\n",
        "!tar xf spark-3.1.1-bin-hadoop3.2.tgz\n",
        "!pip install -q findspark\n",
        "\n",
        "import os\n",
        "os.environ[\"JAVA_HOME\"] = \"/usr/lib/jvm/java-8-openjdk-amd64\"\n",
        "os.environ[\"SPARK_HOME\"] = \"/content/spark-3.1.1-bin-hadoop3.2\"\n",
        "!ls\n",
        "\n",
        "import findspark\n",
        "findspark.init()\n",
        "\n",
        "import pyspark\n",
        "from pyspark.sql import SparkSession\n",
        "spark = SparkSession.builder.master(\"local[*]\").getOrCreate()\n",
        "spark"
      ]
    },
    {
      "cell_type": "code",
      "source": [
        "# read the input csv file with header and store in data frame\n",
        "df = spark.read.format(\"csv\").option(\"header\",\"true\").load(\"challenge.csv\")\n",
        "df.show()"
      ],
      "metadata": {
        "colab": {
          "base_uri": "https://localhost:8080/"
        },
        "id": "JkOkdQViwgpe",
        "outputId": "aa61883d-a81d-4456-be15-c16774519de8"
      },
      "execution_count": 2,
      "outputs": [
        {
          "output_type": "stream",
          "name": "stdout",
          "text": [
            "+---------------+--------------+-----------------+----------+\n",
            "|     ip_address|       Country|      Domain Name|Bytes_used|\n",
            "+---------------+--------------+-----------------+----------+\n",
            "|  52.81.192.172|         China| odnoklassniki.ru|       463|\n",
            "| 119.239.207.13|         China|         youtu.be|        51|\n",
            "|  68.69.217.210|         China|        adobe.com|        10|\n",
            "|   7.191.21.223|      Bulgaria|     linkedin.com|       853|\n",
            "|   211.13.10.68|     Indonesia|          hud.gov|        29|\n",
            "|   239.80.21.97|      Suriname|       smh.com.au|       218|\n",
            "|106.214.106.233|       Jamaica|    amazonaws.com|        95|\n",
            "| 127.242.24.138|         China| surveymonkey.com|       123|\n",
            "|     99.2.6.139|Czech Republic|     geocities.jp|       322|\n",
            "|   237.54.11.63|         China|       amazon.com|        83|\n",
            "| 252.141.157.25|         Japan|      cornell.edu|       374|\n",
            "|185.220.128.248|       Belgium|       weebly.com|       389|\n",
            "|   151.77.19.45|   Afghanistan|independent.co.uk|       282|\n",
            "|  9.161.158.225|     Indonesia|    bloglines.com|       726|\n",
            "| 156.144.61.155|Czech Republic|   slideshare.net|       657|\n",
            "|   8.96.188.151|     Indonesia|          ibm.com|       517|\n",
            "|      5.72.7.65|        Mexico|         youtu.be|       877|\n",
            "|227.110.112.144|       Croatia|         ehow.com|       287|\n",
            "|    81.71.28.97|      Thailand|          last.fm|       588|\n",
            "|  9.255.129.184|      Thailand|          mtv.com|       114|\n",
            "+---------------+--------------+-----------------+----------+\n",
            "only showing top 20 rows\n",
            "\n"
          ]
        }
      ]
    },
    {
      "cell_type": "code",
      "source": [
        "# add a column to say yes or no whether the company is Mexico\n",
        "from pyspark.sql.functions import *\n",
        "df = df.withColumn(\"Is it Mexico\",when(df.Country == 'Mexico','Yes').otherwise('No'))\n",
        "df.show()"
      ],
      "metadata": {
        "colab": {
          "base_uri": "https://localhost:8080/"
        },
        "id": "3pe4jYP8wtck",
        "outputId": "5121457f-bf11-48f2-fe2c-120b1551302c"
      },
      "execution_count": 3,
      "outputs": [
        {
          "output_type": "stream",
          "name": "stdout",
          "text": [
            "+---------------+--------------+-----------------+----------+------------+\n",
            "|     ip_address|       Country|      Domain Name|Bytes_used|Is it Mexico|\n",
            "+---------------+--------------+-----------------+----------+------------+\n",
            "|  52.81.192.172|         China| odnoklassniki.ru|       463|          No|\n",
            "| 119.239.207.13|         China|         youtu.be|        51|          No|\n",
            "|  68.69.217.210|         China|        adobe.com|        10|          No|\n",
            "|   7.191.21.223|      Bulgaria|     linkedin.com|       853|          No|\n",
            "|   211.13.10.68|     Indonesia|          hud.gov|        29|          No|\n",
            "|   239.80.21.97|      Suriname|       smh.com.au|       218|          No|\n",
            "|106.214.106.233|       Jamaica|    amazonaws.com|        95|          No|\n",
            "| 127.242.24.138|         China| surveymonkey.com|       123|          No|\n",
            "|     99.2.6.139|Czech Republic|     geocities.jp|       322|          No|\n",
            "|   237.54.11.63|         China|       amazon.com|        83|          No|\n",
            "| 252.141.157.25|         Japan|      cornell.edu|       374|          No|\n",
            "|185.220.128.248|       Belgium|       weebly.com|       389|          No|\n",
            "|   151.77.19.45|   Afghanistan|independent.co.uk|       282|          No|\n",
            "|  9.161.158.225|     Indonesia|    bloglines.com|       726|          No|\n",
            "| 156.144.61.155|Czech Republic|   slideshare.net|       657|          No|\n",
            "|   8.96.188.151|     Indonesia|          ibm.com|       517|          No|\n",
            "|      5.72.7.65|        Mexico|         youtu.be|       877|         Yes|\n",
            "|227.110.112.144|       Croatia|         ehow.com|       287|          No|\n",
            "|    81.71.28.97|      Thailand|          last.fm|       588|          No|\n",
            "|  9.255.129.184|      Thailand|          mtv.com|       114|          No|\n",
            "+---------------+--------------+-----------------+----------+------------+\n",
            "only showing top 20 rows\n",
            "\n"
          ]
        }
      ]
    },
    {
      "cell_type": "code",
      "source": [
        "# group by new column and sum of bytes used\n",
        "import pyspark.sql.functions as sqlfunc\n",
        "df1 = df.groupBy('Is it Mexico').agg(sqlfunc.sum('Bytes_used').alias('Mexico_Bytes'))\n",
        "df1.show()"
      ],
      "metadata": {
        "colab": {
          "base_uri": "https://localhost:8080/"
        },
        "id": "Cjvlj1JnxjFj",
        "outputId": "edfdcb3f-e175-4dfb-87d6-882507e95c74"
      },
      "execution_count": 5,
      "outputs": [
        {
          "output_type": "stream",
          "name": "stdout",
          "text": [
            "+------------+------------+\n",
            "|Is it Mexico|Mexico_Bytes|\n",
            "+------------+------------+\n",
            "|          No|    508076.0|\n",
            "|         Yes|      6293.0|\n",
            "+------------+------------+\n",
            "\n"
          ]
        }
      ]
    },
    {
      "cell_type": "code",
      "source": [
        "# group by country and use the sqlfunc.countDistinct function to calculate the no. of ip addresses seen in each country\n",
        "df2 = df.groupBy('Country').agg(sqlfunc.countDistinct('ip_address').alias('no_of_ip_addr'))\n",
        "df2.show()"
      ],
      "metadata": {
        "colab": {
          "base_uri": "https://localhost:8080/"
        },
        "id": "NTm1hocF0m1V",
        "outputId": "801fb919-fd58-45ed-d5df-d1ce59be2fef"
      },
      "execution_count": 7,
      "outputs": [
        {
          "output_type": "stream",
          "name": "stdout",
          "text": [
            "+-----------+-------------+\n",
            "|    Country|no_of_ip_addr|\n",
            "+-----------+-------------+\n",
            "|       Chad|            1|\n",
            "|     Russia|           56|\n",
            "|   Paraguay|            1|\n",
            "|      Yemen|            1|\n",
            "|     Sweden|           28|\n",
            "|Philippines|           65|\n",
            "|   Malaysia|            5|\n",
            "|     Turkey|            1|\n",
            "|     Malawi|            2|\n",
            "|    Germany|            5|\n",
            "|    Comoros|            1|\n",
            "|Afghanistan|            5|\n",
            "|     Rwanda|            1|\n",
            "|      Sudan|            1|\n",
            "|     France|           21|\n",
            "|     Greece|            8|\n",
            "|  Sri Lanka|            3|\n",
            "|   Dominica|            1|\n",
            "|  Argentina|           14|\n",
            "|    Belgium|            1|\n",
            "+-----------+-------------+\n",
            "only showing top 20 rows\n",
            "\n"
          ]
        }
      ]
    }
  ]
}